{
 "cells": [
  {
   "cell_type": "markdown",
   "metadata": {},
   "source": [
    "# Introduction to Machine Learning, with Application in Scikit-Learn"
   ]
  },
  {
   "cell_type": "markdown",
   "metadata": {},
   "source": [
    "*Paul Paczuski [pavopax.com](http://pavopax.com)*"
   ]
  },
  {
   "cell_type": "markdown",
   "metadata": {},
   "source": [
    "## How can we use a *machine* to *learn* to solve a task (recognize handwritten digits)?"
   ]
  },
  {
   "cell_type": "markdown",
   "metadata": {},
   "source": [
    "![eight](digit.png)"
   ]
  },
  {
   "cell_type": "markdown",
   "metadata": {},
   "source": [
    "*The above is a handwritten digit, converted to a computer-readable format. Which digit do you think this is?*"
   ]
  },
  {
   "cell_type": "markdown",
   "metadata": {},
   "source": [
    "In this machine learning demo, our objective is:\n",
    "* Given images of handwritten digits, ask the machine to tell us what digits are shown\n",
    "\n",
    "The steps in the process:\n",
    "* Read in the raw data\n",
    "* Learn the pattern (**fit a model**) using a bunch of known digit images and their labels (**training data**)\n",
    "* Use the learned pattern on new data, to determine what digits are shown (**predict**)\n",
    "\n",
    "We can perform this task with just a few lines of Python scikit-learn code."
   ]
  },
  {
   "cell_type": "markdown",
   "metadata": {},
   "source": [
    "## Read in the Raw Data"
   ]
  },
  {
   "cell_type": "code",
   "execution_count": null,
   "metadata": {
    "collapsed": true
   },
   "outputs": [],
   "source": [
    "# set-up and load data\n",
    "from sklearn import datasets\n",
    "\n",
    "digits = datasets.load_digits()"
   ]
  },
  {
   "cell_type": "code",
   "execution_count": null,
   "metadata": {
    "collapsed": false
   },
   "outputs": [],
   "source": [
    "print digits.DESCR"
   ]
  },
  {
   "cell_type": "code",
   "execution_count": null,
   "metadata": {
    "collapsed": false
   },
   "outputs": [],
   "source": [
    "digits.data.shape"
   ]
  },
  {
   "cell_type": "code",
   "execution_count": null,
   "metadata": {
    "collapsed": false
   },
   "outputs": [],
   "source": [
    "digits.data[0]"
   ]
  },
  {
   "cell_type": "code",
   "execution_count": null,
   "metadata": {
    "collapsed": false
   },
   "outputs": [],
   "source": [
    "digits.data"
   ]
  },
  {
   "cell_type": "code",
   "execution_count": null,
   "metadata": {
    "collapsed": false
   },
   "outputs": [],
   "source": [
    "digits.target"
   ]
  },
  {
   "cell_type": "markdown",
   "metadata": {},
   "source": [
    "## Fit the Model \n",
    "This is the \"learn\" part (Machine *Learning*).\n",
    "\n",
    "We'll use a machine learning algorithm to find the patterns in this data (\"fit the model\").\n",
    "\n",
    "We want to learn this relationship:\n",
    "\n",
    "    Given a matrix of numbers -> which digit is it?"
   ]
  },
  {
   "cell_type": "code",
   "execution_count": null,
   "metadata": {
    "collapsed": false
   },
   "outputs": [],
   "source": [
    "# here is one handwritten digit\n",
    "digits.data[0]"
   ]
  },
  {
   "cell_type": "code",
   "execution_count": null,
   "metadata": {
    "collapsed": false
   },
   "outputs": [],
   "source": [
    "# Let's pull out some black box algorithm to do this\n",
    "from sklearn import svm\n",
    "\n",
    "classifier = svm.SVC(gamma=0.001, C=100.)"
   ]
  },
  {
   "cell_type": "code",
   "execution_count": null,
   "metadata": {
    "collapsed": false
   },
   "outputs": [],
   "source": [
    "# Now, FIT the model (learn the pattern of the data)\n",
    "# (This \"changes\" the object \"classifier\")\n",
    "classifier.fit(digits.data[:-1], digits.target[:-1])  "
   ]
  },
  {
   "cell_type": "markdown",
   "metadata": {},
   "source": [
    "## Use the Model for Prediction"
   ]
  },
  {
   "cell_type": "markdown",
   "metadata": {},
   "source": [
    "Now we can predict new values.\n",
    "\n",
    "In particular, we can ask our classifier (algorithm) what is the digit of our last image in the digits dataset, which we have not used to train the classifier:"
   ]
  },
  {
   "cell_type": "code",
   "execution_count": null,
   "metadata": {
    "collapsed": false
   },
   "outputs": [],
   "source": [
    "print digits.data[-1:]"
   ]
  },
  {
   "cell_type": "code",
   "execution_count": null,
   "metadata": {
    "collapsed": false
   },
   "outputs": [],
   "source": [
    "# the algorithm's answer (prediction) is...\n",
    "classifier.predict(digits.data[-1:])[0]"
   ]
  },
  {
   "cell_type": "markdown",
   "metadata": {},
   "source": [
    "![eight](digit.png)"
   ]
  },
  {
   "cell_type": "markdown",
   "metadata": {},
   "source": [
    "What do you think?"
   ]
  },
  {
   "cell_type": "markdown",
   "metadata": {},
   "source": [
    "## Summary \n",
    "\n",
    "Here are the key steps in this process:\n",
    "\n",
    "1. Read in the data\n",
    "2. **Fit** the model using some algorithms\n",
    "3.  Use the model to **predict** on new data"
   ]
  },
  {
   "cell_type": "markdown",
   "metadata": {},
   "source": [
    "# Two Types of Machine Learning"
   ]
  },
  {
   "cell_type": "markdown",
   "metadata": {},
   "source": [
    "Below are the main types of machine learning, as well as some example algorithms."
   ]
  },
  {
   "cell_type": "markdown",
   "metadata": {},
   "source": [
    "## Supervised Learning\n",
    "- When the target/outcome/y is known\n",
    "- There are two classes of models, depending on the type of the target:\n",
    "    - classification: when outcome is categorical\n",
    "    - regression: when outcome is continuous\n",
    "- **Example algorithms**: linear regression, logistic regression, support vector machine, random forest, k-nearest neighbors\n",
    "\n",
    "## Unsupervised Learning\n",
    "- When the target/outcome/y is unknown (we want to find \"clusters\" in the data)\n",
    "- There are two main uses of unsupervised learning:\n",
    "  - clustering\n",
    "  - dimension reduction\n",
    "- **Example algorithms**: k-means clustering, affinity propagation clustering, principal component analysis"
   ]
  },
  {
   "cell_type": "markdown",
   "metadata": {},
   "source": [
    "# Resources\n",
    "\n",
    "## Essential quick-starts\n",
    "\n",
    "[Machine learning introduction/tutorial (with scikit-learn code)](http://scikit-learn.org/stable/tutorial/basic/tutorial.html)\n",
    "\n",
    "[Python - \"immediately useful tools\"](http://python.net/~goodger/projects/pycon/2007/idiomatic/handout.html)\n",
    "\n",
    "[10 minutes to Pandas](http://pandas.pydata.org/pandas-docs/stable/10min.html)\n",
    "\n",
    "[Pandas cheat sheet](blog.quandl.com/cheat-sheet-for-data-analysis-in-python)\n",
    "\n",
    "[ggplot - easy plotting in python](http://ggplot.yhathq.com)\n",
    "\n",
    "## More Tutorials\n",
    "\n",
    "[Supervised learning introduction (with scikit-learn code)](http://scikit-learn.org/stable/tutorial/statistical_inference/supervised_learning.html)\n",
    "\n",
    "[Unsupervised learning introduction (with scikit-learn code)](http://scikit-learn.org/stable/tutorial/statistical_inference/unsupervised_learning.html)\n",
    "\n",
    "## References\n",
    "\n",
    "Canonical Textbook on Machine Learning:\n",
    "\n",
    "* [[free pdf!] The Elements of Statistical Learning: Data Mining, Inference, and Prediction](http://statweb.stanford.edu/~tibs/ElemStatLearn/)\n",
    "\n",
    "A newer and less technical version:\n",
    "\n",
    "* [[free pdf!] An Introduction to Statistical Learning with Applications in R](http://www-bcf.usc.edu/~gareth/ISL/)\n",
    "\n",
    "[scikit-learn tutorials](http://scikit-learn.org/stable/tutorial/index.html)\n",
    "\n",
    "[scikit-learn user guide](http://scikit-learn.org/stable/user_guide.html)\n",
    "\n",
    "[Choosing the right estimator](http://scikit-learn.org/stable/tutorial/machine_learning_map/index.html)\n",
    "\n",
    "[scikit-learn - documentation](http://scikit-learn.org/stable/documentation.html)\n"
   ]
  },
  {
   "cell_type": "markdown",
   "metadata": {},
   "source": [
    "# Acknowledgments\n",
    "\n",
    "The source of the scikit-learn demo:\n",
    "* http://scikit-learn.org/stable/tutorial/basic/tutorial.html"
   ]
  }
 ],
 "metadata": {
  "kernelspec": {
   "display_name": "Python 2",
   "language": "python",
   "name": "python2"
  },
  "language_info": {
   "codemirror_mode": {
    "name": "ipython",
    "version": 2
   },
   "file_extension": ".py",
   "mimetype": "text/x-python",
   "name": "python",
   "nbconvert_exporter": "python",
   "pygments_lexer": "ipython2",
   "version": "2.7.12"
  }
 },
 "nbformat": 4,
 "nbformat_minor": 1
}
